{
 "cells": [
  {
   "cell_type": "code",
   "execution_count": 14,
   "metadata": {
    "collapsed": true
   },
   "outputs": [],
   "source": [
    "import numpy as np\n",
    "\n",
    "import torch\n",
    "from torch.autograd import Variable\n",
    "from torch import optim\n",
    "\n",
    "\n",
    "def build_model(input_dim, output_dim):\n",
    "    # We don't need the softmax layer here since CrossEntropyLoss already\n",
    "    # uses it internally.\n",
    "    model = torch.nn.Sequential()\n",
    "    model.add_module(\"linear\",\n",
    "                     torch.nn.Linear(input_dim, output_dim, bias=False))\n",
    "    return model\n",
    "\n",
    "\n",
    "def train(model, loss, optimizer, x_val, y_val):\n",
    "    x = Variable(x_val, requires_grad=False)\n",
    "    y = Variable(y_val, requires_grad=False)\n",
    "\n",
    "    # Reset gradient\n",
    "    optimizer.zero_grad()\n",
    "\n",
    "    # Forward\n",
    "    fx = model.forward(x)\n",
    "    output = loss.forward(fx, y)\n",
    "\n",
    "    # Backward\n",
    "    output.backward()\n",
    "\n",
    "    # Update parameters\n",
    "    optimizer.step()\n",
    "\n",
    "    return output.data[0]\n",
    "\n",
    "\n",
    "def predict(model, x_val):\n",
    "    x = Variable(x_val, requires_grad=False)\n",
    "    output = model.forward(x)\n",
    "    return output.data.numpy().argmax(axis=1)\n",
    "\n",
    "def adjust_learning_rate(optimizer, epoch, learning_rate):\n",
    "    \"\"\"Sets the learning rate to the initial LR decayed by 10 after every 1000 epochs\"\"\"\n",
    "    lr = learning_rate * (0.5 ** (epoch // 100)) \n",
    "    for param_group in optimizer.param_groups:\n",
    "        param_group['lr'] = lr  \n"
   ]
  },
  {
   "cell_type": "code",
   "execution_count": 1,
   "metadata": {},
   "outputs": [],
   "source": [
    "def main():\n",
    "    torch.manual_seed(42)\n",
    "    trX = np.load('/Users/hanxintian/Downloads/1003project/TRAIN_TEST64/X_train64.npy')\n",
    "    teX = np.load('/Users/hanxintian/Downloads/1003project/TRAIN_TEST64/X_test64.npy')\n",
    "    trY = np.loadtxt('/Users/hanxintian/Downloads/1003project/TRAIN_TEST64/y_train64.txt')\n",
    "    teY = np.loadtxt('/Users/hanxintian/Downloads/1003project/TRAIN_TEST64/y_test64.txt')\n",
    "    ttrX = torch.from_numpy(trX).float()\n",
    "    tteX = torch.from_numpy(teX).float()\n",
    "    ttrY = torch.from_numpy(trY).long()\n",
    "    \n",
    "    n_examples, n_features = ttrX.size()\n",
    "    n_classes = 10\n",
    "    model = build_model(n_features, n_classes)\n",
    "    loss = torch.nn.CrossEntropyLoss(size_average=True)\n",
    "    optimizer = optim.SGD(model.parameters(), lr=0.1, momentum=0.9)\n",
    "    batch_size = 100\n",
    "    learning_rate = 0.1\n",
    "    for i in range(5000):\n",
    "        lr = adjust_learning_rate(optimizer, i, learning_rate)\n",
    "        cost = 0.\n",
    "        num_batches = n_examples // batch_size\n",
    "        for k in range(num_batches):\n",
    "            start, end = k * batch_size, (k + 1) * batch_size\n",
    "            cost += train(model, loss, optimizer,\n",
    "                          ttrX[start:end], ttrY[start:end])\n",
    "        predY = predict(model, tteX)\n",
    "        tpredY = predict(model, ttrX)\n",
    "        print(\"Epoch %d, lr = %f cost = %f, train acc = %.2f%%, test acc = %.2f%%\"\n",
    "              % (i + 1, lr, cost / num_batches, 100. * np.mean(tpredY == trY),100. * np.mean(predY == teY)))\n",
    "        if (i+1)% 1000 == 0:\n",
    "            torch.save(model.state_dict(), './model/model_'+str(int((i+1)/1000)))\n",
    "\n",
    "if __name__ == \"__main__\":\n",
    "    main()"
   ]
  },
  {
   "cell_type": "code",
   "execution_count": null,
   "metadata": {
    "collapsed": true
   },
   "outputs": [],
   "source": []
  }
 ],
 "metadata": {
  "kernelspec": {
   "display_name": "Python 3",
   "language": "python",
   "name": "python3"
  },
  "language_info": {
   "codemirror_mode": {
    "name": "ipython",
    "version": 3
   },
   "file_extension": ".py",
   "mimetype": "text/x-python",
   "name": "python",
   "nbconvert_exporter": "python",
   "pygments_lexer": "ipython3",
   "version": "3.6.3"
  }
 },
 "nbformat": 4,
 "nbformat_minor": 2
}
