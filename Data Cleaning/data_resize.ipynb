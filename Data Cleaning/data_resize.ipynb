{
 "cells": [
  {
   "cell_type": "code",
   "execution_count": 2,
   "metadata": {},
   "outputs": [],
   "source": [
    "from PIL import Image\n",
    "from resizeimage import resizeimage\n",
    "import glob\n",
    "import numpy as np\n",
    "# for filename in glob.glob('0/train/0.jpg'): #assuming gif\n",
    "#     image=Image.open(filename)\n",
    "#     cover = resizeimage.resize_cover(image, [128, 128])\n",
    "#     cover.save('Resize_image/0/0', image.format)\n"
   ]
  },
  {
   "cell_type": "code",
   "execution_count": 25,
   "metadata": {},
   "outputs": [
    {
     "name": "stdout",
     "output_type": "stream",
     "text": [
      "Finish label 1 folder train/\n",
      "Finish label 1 folder val/\n",
      "Finish label 2 folder train/\n",
      "Finish label 2 folder val/\n",
      "Finish label 3 folder train/\n",
      "Finish label 3 folder val/\n",
      "Finish label 4 folder train/\n",
      "Finish label 4 folder val/\n",
      "Finish label 5 folder train/\n",
      "Finish label 5 folder val/\n",
      "Finish label 6 folder train/\n",
      "Finish label 6 folder val/\n",
      "Finish label 7 folder train/\n",
      "Finish label 7 folder val/\n",
      "Finish label 8 folder train/\n",
      "Finish label 8 folder val/\n",
      "Finish label 9 folder train/\n",
      "Finish label 9 folder val/\n"
     ]
    }
   ],
   "source": [
    "from PIL import Image\n",
    "from resizeimage import resizeimage\n",
    "import glob\n",
    "\n",
    "for i in range(10):\n",
    "    count = 0\n",
    "    for j in ['train/','val/']:\n",
    "        for filename in glob.glob(str(i)+'/'+j+'*'):\n",
    "            try:\n",
    "                image = Image.open(filename)\n",
    "                cover = resizeimage.resize_cover(image, [128, 128])\n",
    "                cover.save('Resize_image/'+str(i)+'/'+str(count)+'.jpeg', image.format)\n",
    "                count += 1\n",
    "            except:\n",
    "                pass\n",
    "        print('Finish label '+str(i) + ' folder ' + j)"
   ]
  },
  {
   "cell_type": "code",
   "execution_count": 3,
   "metadata": {},
   "outputs": [
    {
     "name": "stdout",
     "output_type": "stream",
     "text": [
      "Finish label: 0\n",
      "Finish label: 1\n",
      "Finish label: 2\n",
      "Finish label: 3\n",
      "Finish label: 4\n",
      "Finish label: 5\n",
      "Finish label: 6\n",
      "Finish label: 7\n",
      "Finish label: 8\n",
      "Finish label: 9\n"
     ]
    }
   ],
   "source": [
    "import imageio\n",
    "import numpy as np\n",
    "data = np.zeros((30000,49152))\n",
    "labels = []\n",
    "count = 0\n",
    "for i in range(10):\n",
    "    label = i  \n",
    "    for filename in glob.glob('Resize_image/'+str(i)+'/*'):\n",
    "        try:\n",
    "            im = imageio.imread(filename)\n",
    "            data[count] = im.swapaxes(1,2).swapaxes(0,1).ravel()\n",
    "            labels.append(label)\n",
    "            count += 1\n",
    "        except:\n",
    "            pass\n",
    "    print('Finish label: '+str(i))\n",
    "    "
   ]
  },
  {
   "cell_type": "code",
   "execution_count": 18,
   "metadata": {},
   "outputs": [
    {
     "data": {
      "text/plain": [
       "29130"
      ]
     },
     "execution_count": 18,
     "metadata": {},
     "output_type": "execute_result"
    }
   ],
   "source": [
    "len(labels)"
   ]
  },
  {
   "cell_type": "code",
   "execution_count": 5,
   "metadata": {},
   "outputs": [],
   "source": [
    "DATA = data[:29130]"
   ]
  },
  {
   "cell_type": "code",
   "execution_count": 36,
   "metadata": {},
   "outputs": [],
   "source": [
    "from sklearn.cross_validation import train_test_split\n",
    "import numpy as np\n",
    "index = list(range(29130))\n",
    "\n",
    "X_train_index, X_test_index, y_train, y_test = train_test_split(index, labels, test_size=0.4, random_state=0)"
   ]
  },
  {
   "cell_type": "code",
   "execution_count": 56,
   "metadata": {},
   "outputs": [],
   "source": [
    "X_train = DATA[X_train_index]"
   ]
  },
  {
   "cell_type": "code",
   "execution_count": 62,
   "metadata": {},
   "outputs": [],
   "source": [
    "np.save('../DATA/X_train',X_train)"
   ]
  },
  {
   "cell_type": "code",
   "execution_count": 66,
   "metadata": {},
   "outputs": [],
   "source": [
    "with open(\"../DATA/y_train.txt\", \"w\") as f:\n",
    "    for s in y_train:\n",
    "        f.write(str(s) +\"\\n\")\n",
    "        \n",
    "with open(\"../DATA/y_test.txt\", \"w\") as f:\n",
    "    for s in y_test:\n",
    "        f.write(str(s) +\"\\n\")"
   ]
  },
  {
   "cell_type": "code",
   "execution_count": 68,
   "metadata": {},
   "outputs": [],
   "source": [
    "X_test = DATA[X_test_index]"
   ]
  },
  {
   "cell_type": "code",
   "execution_count": 70,
   "metadata": {},
   "outputs": [],
   "source": [
    "np.save('../DATA/X_test',X_test)"
   ]
  },
  {
   "cell_type": "code",
   "execution_count": 67,
   "metadata": {},
   "outputs": [],
   "source": [
    "del X_train"
   ]
  },
  {
   "cell_type": "code",
   "execution_count": 53,
   "metadata": {},
   "outputs": [
    {
     "data": {
      "text/plain": [
       "1776"
      ]
     },
     "execution_count": 53,
     "metadata": {},
     "output_type": "execute_result"
    }
   ],
   "source": [
    "test = [x for x in y_train if x == 9]\n",
    "len(test)"
   ]
  },
  {
   "cell_type": "code",
   "execution_count": 74,
   "metadata": {},
   "outputs": [],
   "source": [
    "del X_test"
   ]
  },
  {
   "cell_type": "code",
   "execution_count": 72,
   "metadata": {},
   "outputs": [],
   "source": [
    "#X_test = np.load('../DATA/X_test.npy')"
   ]
  },
  {
   "cell_type": "markdown",
   "metadata": {},
   "source": [
    "CLASS IN TRAINING SET:\n",
    "0 -- 1745\n",
    "1 -- 1424\n",
    "2 -- 1780\n",
    "3 -- 1808\n",
    "4 -- 1787\n",
    "5 -- 1764\n",
    "6 -- 1812\n",
    "7 -- 1815\n",
    "8 -- 1758\n",
    "9 -- 1776"
   ]
  },
  {
   "cell_type": "code",
   "execution_count": 57,
   "metadata": {},
   "outputs": [
    {
     "data": {
      "text/plain": [
       "17478"
      ]
     },
     "execution_count": 57,
     "metadata": {},
     "output_type": "execute_result"
    }
   ],
   "source": [
    "test = [x for x in y_test if x == 0]\n",
    "len(y_train)"
   ]
  },
  {
   "cell_type": "code",
   "execution_count": 77,
   "metadata": {},
   "outputs": [
    {
     "data": {
      "text/plain": [
       "17478"
      ]
     },
     "execution_count": 77,
     "metadata": {},
     "output_type": "execute_result"
    }
   ],
   "source": [
    "len(X_train_index)"
   ]
  },
  {
   "cell_type": "code",
   "execution_count": 23,
   "metadata": {},
   "outputs": [],
   "source": [
    "#----------------HLEP FUNCTION ------------------------------"
   ]
  },
  {
   "cell_type": "code",
   "execution_count": 16,
   "metadata": {},
   "outputs": [],
   "source": [
    "# np.save('RAWDATA',DATA)\n",
    "#np.load('RAWDATA')"
   ]
  },
  {
   "cell_type": "code",
   "execution_count": 22,
   "metadata": {},
   "outputs": [],
   "source": [
    "# with open(\"labels.txt\", \"w\") as f:\n",
    "#     for s in labels:\n",
    "#         f.write(str(s) +\"\\n\")\n",
    "\n",
    "# with open(\"labels.txt\", \"r\") as f:\n",
    "#     for line in f:\n",
    "#         score.append(int(line.strip()))"
   ]
  },
  {
   "cell_type": "code",
   "execution_count": 180,
   "metadata": {},
   "outputs": [],
   "source": [
    "# for filename in glob.glob('Resize_image/0/0.jpeg'):\n",
    "#         try:\n",
    "#             im = imageio.imread(filename)\n",
    "#             testimage = im.swapaxes(1,2).swapaxes(0,1).ravel()\n",
    "#         except:\n",
    "#             pass"
   ]
  },
  {
   "cell_type": "code",
   "execution_count": 9,
   "metadata": {},
   "outputs": [],
   "source": [
    "# immm = DATA[102].reshape(3,128,128).swapaxes(0,1).swapaxes(1,2)\n",
    "\n",
    "# img = Image.fromarray(immm.astype(np.uint8), 'RGB')\n",
    "# img.save('my.jpeg')\n",
    "# img.show()"
   ]
  },
  {
   "cell_type": "code",
   "execution_count": null,
   "metadata": {},
   "outputs": [],
   "source": [
    "# with open('test-image-cover64.jpeg', 'r+b') as f:\n",
    "#     with Image.open(f) as image:\n",
    "#         cover = resizeimage.resize_cover(image, [128, 128])\n",
    "#         cover.save('test-image-coverexp.jpeg', image.format)"
   ]
  }
 ],
 "metadata": {
  "kernelspec": {
   "display_name": "Python 3",
   "language": "python",
   "name": "python3"
  },
  "language_info": {
   "codemirror_mode": {
    "name": "ipython",
    "version": 3
   },
   "file_extension": ".py",
   "mimetype": "text/x-python",
   "name": "python",
   "nbconvert_exporter": "python",
   "pygments_lexer": "ipython3",
   "version": "3.6.4"
  }
 },
 "nbformat": 4,
 "nbformat_minor": 2
}
