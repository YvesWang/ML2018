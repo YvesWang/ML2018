{
 "cells": [
  {
   "cell_type": "code",
   "execution_count": 59,
   "metadata": {
    "collapsed": true
   },
   "outputs": [],
   "source": [
    "import numpy as np \n",
    "import sys, requests, shutil, os\n",
    "from urllib import request, error\n",
    "import pandas as pd\n",
    "import random"
   ]
  },
  {
   "cell_type": "code",
   "execution_count": 5,
   "metadata": {
    "collapsed": true
   },
   "outputs": [],
   "source": [
    "train_all = pd.read_csv('train.csv')"
   ]
  },
  {
   "cell_type": "code",
   "execution_count": 84,
   "metadata": {
    "collapsed": true
   },
   "outputs": [],
   "source": [
    "def shuffle_data(data):\n",
    "    data = data.copy()\n",
    "    index = list(data.index)\n",
    "    random.shuffle(index)\n",
    "    train = data.loc[index[:1500]]\n",
    "    val = data.loc[index[1500:3000]]\n",
    "    return train, val"
   ]
  },
  {
   "cell_type": "code",
   "execution_count": 85,
   "metadata": {
    "collapsed": true
   },
   "outputs": [],
   "source": [
    "def fetch_image(path, folder_path):\n",
    "    url=path\n",
    "    response=requests.get(url, stream=True)\n",
    "    with open(folder_path +'image.jpg', 'wb') as out_file:\n",
    "        shutil.copyfileobj(response.raw, out_file)\n",
    "    del response"
   ]
  },
  {
   "cell_type": "markdown",
   "metadata": {},
   "source": [
    "## 11784 yosemite national park"
   ]
  },
  {
   "cell_type": "code",
   "execution_count": 90,
   "metadata": {},
   "outputs": [],
   "source": [
    "train_11784, val_11784 = shuffle_data(train_all[train_all.iloc[:,2] == 11784])"
   ]
  },
  {
   "cell_type": "code",
   "execution_count": 91,
   "metadata": {},
   "outputs": [],
   "source": [
    "train_11784.to_csv('/Users/lishuaiji/Desktop/DS-GA 1003 Machine Learning/project/train_11784.csv', index= None)\n",
    "train_11784 = pd.read_csv('train_11784.csv')"
   ]
  },
  {
   "cell_type": "code",
   "execution_count": 92,
   "metadata": {
    "collapsed": true
   },
   "outputs": [],
   "source": [
    "val_11784.to_csv('/Users/lishuaiji/Desktop/DS-GA 1003 Machine Learning/project/val_11784.csv', index= None)\n",
    "val_11784 = pd.read_csv('val_11784.csv')"
   ]
  },
  {
   "cell_type": "code",
   "execution_count": 93,
   "metadata": {},
   "outputs": [],
   "source": [
    "folder_path = '/Users/lishuaiji/Desktop/DS-GA 1003 Machine Learning/project/11784/train/'\n",
    "links=train_11784['url']\n",
    "i=0\n",
    "\n",
    "for link in links:\n",
    "    if os.path.exists(folder_path+str(i)+'.jpg'):\n",
    "        i+=1\n",
    "        continue\n",
    "    fetch_image(link, folder_path)\n",
    "    os.rename(folder_path+'image.jpg', folder_path+ str(i)+ '.jpg')\n",
    "    i+=1"
   ]
  },
  {
   "cell_type": "code",
   "execution_count": 94,
   "metadata": {},
   "outputs": [],
   "source": [
    "folder_path = '/Users/lishuaiji/Desktop/DS-GA 1003 Machine Learning/project/11784/val/'\n",
    "links=val_11784['url']\n",
    "i=0\n",
    "\n",
    "for link in links:\n",
    "    if os.path.exists(folder_path+str(i)+'.jpg'):\n",
    "        i+=1\n",
    "        continue\n",
    "    fetch_image(link, folder_path)\n",
    "    os.rename(folder_path+'image.jpg', folder_path+ str(i)+ '.jpg')\n",
    "    i+=1"
   ]
  }
 ],
 "metadata": {
  "kernelspec": {
   "display_name": "Python 3",
   "language": "python",
   "name": "python3"
  },
  "language_info": {
   "codemirror_mode": {
    "name": "ipython",
    "version": 3
   },
   "file_extension": ".py",
   "mimetype": "text/x-python",
   "name": "python",
   "nbconvert_exporter": "python",
   "pygments_lexer": "ipython3",
   "version": "3.6.3"
  }
 },
 "nbformat": 4,
 "nbformat_minor": 2
}
